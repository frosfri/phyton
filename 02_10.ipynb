{
  "nbformat": 4,
  "nbformat_minor": 0,
  "metadata": {
    "colab": {
      "provenance": [],
      "authorship_tag": "ABX9TyMjmZb8UEN0pFlHKBzRwVIH",
      "include_colab_link": true
    },
    "kernelspec": {
      "name": "python3",
      "display_name": "Python 3"
    },
    "language_info": {
      "name": "python"
    }
  },
  "cells": [
    {
      "cell_type": "markdown",
      "metadata": {
        "id": "view-in-github",
        "colab_type": "text"
      },
      "source": [
        "<a href=\"https://colab.research.google.com/github/frosfri/phyton/blob/main/02_10.ipynb\" target=\"_parent\"><img src=\"https://colab.research.google.com/assets/colab-badge.svg\" alt=\"Open In Colab\"/></a>"
      ]
    },
    {
      "cell_type": "code",
      "execution_count": null,
      "metadata": {
        "colab": {
          "base_uri": "https://localhost:8080/"
        },
        "id": "0MX_HIwHi1LX",
        "outputId": "6e712d40-1efe-4ad3-9fe0-cddf9726402c"
      },
      "outputs": [
        {
          "output_type": "stream",
          "name": "stdout",
          "text": [
            "Requirement already satisfied: PyPDF2 in /usr/local/lib/python3.12/dist-packages (3.0.1)\n"
          ]
        }
      ],
      "source": [
        "!pip install PyPDF2"
      ]
    },
    {
      "cell_type": "code",
      "source": [
        "from google.colab import files\n",
        "import PyPDF2"
      ],
      "metadata": {
        "id": "Seo4DIrfqZjX"
      },
      "execution_count": null,
      "outputs": []
    },
    {
      "cell_type": "code",
      "source": [
        "#Carrega o PDF\n",
        "uploaded = files.upload()\n",
        "nome_arquivo = list(uploaded.keys())[0]\n",
        "\n",
        "#Extrair texto\n",
        "texto = \"\"\n",
        "with open(nome_arquivo, \"rb\") as pdf_file:\n",
        "    leitor = PyPDF2.PdfReader(pdf_file)\n",
        "    for pagina in leitor.pages:\n",
        "        texto += pagina.extract_text()\n",
        "\n",
        "print(\"Texto carregado do PDF com sucesso\")\n",
        "\n",
        "\n",
        "\n",
        "#SALVAR O TEXTO EM CSV\n",
        "import csv\n",
        "\n",
        "with open(\"conteudo_livro.csv\", \"w\", newline=\"\", encoding=\"utf-8\") as f:\n",
        "     writer = csv.writer(f)\n",
        "     writer.writerow([\"texto\"])\n",
        "     writer.writerow([texto])\n",
        "\n",
        "     print(\"CSV com o conteúdo do livro criado\")\n",
        "\n",
        "\n",
        "\n",
        "def responder(pergunta):\n",
        "\n",
        "  if pergunta.lower() in texto.lower():\n",
        "\n",
        "    frases = texto.split(\".\")\n",
        "    for frase in frases:\n",
        "\n",
        "      if pergunta.lower() in frase.lower():\n",
        "\n",
        "        return frase.strip() + \".\"\n",
        "\n",
        "    return \"Encontrei algo, mas não consegui extrair a frase completa.\"\n",
        "  else:\n",
        "\n",
        "    return \"Não encontrei uma resposta exata, tente reformular a pergunta\"\n",
        "\n",
        "\n",
        "\n",
        "#LOOP DE INTERAÇÃO\n",
        "while True:\n",
        "  pergunta = input(\"Digite uma palavra chave (ou 'sair' para encerrar): \")\n",
        "  if pergunta.lower() == \"sair\":\n",
        "    break\n",
        "  resposta = responder(pergunta)\n",
        "  print(\"Resposta:\", resposta)"
      ],
      "metadata": {
        "colab": {
          "base_uri": "https://localhost:8080/",
          "height": 125
        },
        "id": "1FKs7o6cqdB-",
        "outputId": "00bb29d2-54de-41f4-e895-88b336a0643c"
      },
      "execution_count": null,
      "outputs": [
        {
          "output_type": "display_data",
          "data": {
            "text/plain": [
              "<IPython.core.display.HTML object>"
            ],
            "text/html": [
              "\n",
              "     <input type=\"file\" id=\"files-aad46d39-1e7a-477b-9fe8-8f01cd476bda\" name=\"files[]\" multiple disabled\n",
              "        style=\"border:none\" />\n",
              "     <output id=\"result-aad46d39-1e7a-477b-9fe8-8f01cd476bda\">\n",
              "      Upload widget is only available when the cell has been executed in the\n",
              "      current browser session. Please rerun this cell to enable.\n",
              "      </output>\n",
              "      <script>// Copyright 2017 Google LLC\n",
              "//\n",
              "// Licensed under the Apache License, Version 2.0 (the \"License\");\n",
              "// you may not use this file except in compliance with the License.\n",
              "// You may obtain a copy of the License at\n",
              "//\n",
              "//      http://www.apache.org/licenses/LICENSE-2.0\n",
              "//\n",
              "// Unless required by applicable law or agreed to in writing, software\n",
              "// distributed under the License is distributed on an \"AS IS\" BASIS,\n",
              "// WITHOUT WARRANTIES OR CONDITIONS OF ANY KIND, either express or implied.\n",
              "// See the License for the specific language governing permissions and\n",
              "// limitations under the License.\n",
              "\n",
              "/**\n",
              " * @fileoverview Helpers for google.colab Python module.\n",
              " */\n",
              "(function(scope) {\n",
              "function span(text, styleAttributes = {}) {\n",
              "  const element = document.createElement('span');\n",
              "  element.textContent = text;\n",
              "  for (const key of Object.keys(styleAttributes)) {\n",
              "    element.style[key] = styleAttributes[key];\n",
              "  }\n",
              "  return element;\n",
              "}\n",
              "\n",
              "// Max number of bytes which will be uploaded at a time.\n",
              "const MAX_PAYLOAD_SIZE = 100 * 1024;\n",
              "\n",
              "function _uploadFiles(inputId, outputId) {\n",
              "  const steps = uploadFilesStep(inputId, outputId);\n",
              "  const outputElement = document.getElementById(outputId);\n",
              "  // Cache steps on the outputElement to make it available for the next call\n",
              "  // to uploadFilesContinue from Python.\n",
              "  outputElement.steps = steps;\n",
              "\n",
              "  return _uploadFilesContinue(outputId);\n",
              "}\n",
              "\n",
              "// This is roughly an async generator (not supported in the browser yet),\n",
              "// where there are multiple asynchronous steps and the Python side is going\n",
              "// to poll for completion of each step.\n",
              "// This uses a Promise to block the python side on completion of each step,\n",
              "// then passes the result of the previous step as the input to the next step.\n",
              "function _uploadFilesContinue(outputId) {\n",
              "  const outputElement = document.getElementById(outputId);\n",
              "  const steps = outputElement.steps;\n",
              "\n",
              "  const next = steps.next(outputElement.lastPromiseValue);\n",
              "  return Promise.resolve(next.value.promise).then((value) => {\n",
              "    // Cache the last promise value to make it available to the next\n",
              "    // step of the generator.\n",
              "    outputElement.lastPromiseValue = value;\n",
              "    return next.value.response;\n",
              "  });\n",
              "}\n",
              "\n",
              "/**\n",
              " * Generator function which is called between each async step of the upload\n",
              " * process.\n",
              " * @param {string} inputId Element ID of the input file picker element.\n",
              " * @param {string} outputId Element ID of the output display.\n",
              " * @return {!Iterable<!Object>} Iterable of next steps.\n",
              " */\n",
              "function* uploadFilesStep(inputId, outputId) {\n",
              "  const inputElement = document.getElementById(inputId);\n",
              "  inputElement.disabled = false;\n",
              "\n",
              "  const outputElement = document.getElementById(outputId);\n",
              "  outputElement.innerHTML = '';\n",
              "\n",
              "  const pickedPromise = new Promise((resolve) => {\n",
              "    inputElement.addEventListener('change', (e) => {\n",
              "      resolve(e.target.files);\n",
              "    });\n",
              "  });\n",
              "\n",
              "  const cancel = document.createElement('button');\n",
              "  inputElement.parentElement.appendChild(cancel);\n",
              "  cancel.textContent = 'Cancel upload';\n",
              "  const cancelPromise = new Promise((resolve) => {\n",
              "    cancel.onclick = () => {\n",
              "      resolve(null);\n",
              "    };\n",
              "  });\n",
              "\n",
              "  // Wait for the user to pick the files.\n",
              "  const files = yield {\n",
              "    promise: Promise.race([pickedPromise, cancelPromise]),\n",
              "    response: {\n",
              "      action: 'starting',\n",
              "    }\n",
              "  };\n",
              "\n",
              "  cancel.remove();\n",
              "\n",
              "  // Disable the input element since further picks are not allowed.\n",
              "  inputElement.disabled = true;\n",
              "\n",
              "  if (!files) {\n",
              "    return {\n",
              "      response: {\n",
              "        action: 'complete',\n",
              "      }\n",
              "    };\n",
              "  }\n",
              "\n",
              "  for (const file of files) {\n",
              "    const li = document.createElement('li');\n",
              "    li.append(span(file.name, {fontWeight: 'bold'}));\n",
              "    li.append(span(\n",
              "        `(${file.type || 'n/a'}) - ${file.size} bytes, ` +\n",
              "        `last modified: ${\n",
              "            file.lastModifiedDate ? file.lastModifiedDate.toLocaleDateString() :\n",
              "                                    'n/a'} - `));\n",
              "    const percent = span('0% done');\n",
              "    li.appendChild(percent);\n",
              "\n",
              "    outputElement.appendChild(li);\n",
              "\n",
              "    const fileDataPromise = new Promise((resolve) => {\n",
              "      const reader = new FileReader();\n",
              "      reader.onload = (e) => {\n",
              "        resolve(e.target.result);\n",
              "      };\n",
              "      reader.readAsArrayBuffer(file);\n",
              "    });\n",
              "    // Wait for the data to be ready.\n",
              "    let fileData = yield {\n",
              "      promise: fileDataPromise,\n",
              "      response: {\n",
              "        action: 'continue',\n",
              "      }\n",
              "    };\n",
              "\n",
              "    // Use a chunked sending to avoid message size limits. See b/62115660.\n",
              "    let position = 0;\n",
              "    do {\n",
              "      const length = Math.min(fileData.byteLength - position, MAX_PAYLOAD_SIZE);\n",
              "      const chunk = new Uint8Array(fileData, position, length);\n",
              "      position += length;\n",
              "\n",
              "      const base64 = btoa(String.fromCharCode.apply(null, chunk));\n",
              "      yield {\n",
              "        response: {\n",
              "          action: 'append',\n",
              "          file: file.name,\n",
              "          data: base64,\n",
              "        },\n",
              "      };\n",
              "\n",
              "      let percentDone = fileData.byteLength === 0 ?\n",
              "          100 :\n",
              "          Math.round((position / fileData.byteLength) * 100);\n",
              "      percent.textContent = `${percentDone}% done`;\n",
              "\n",
              "    } while (position < fileData.byteLength);\n",
              "  }\n",
              "\n",
              "  // All done.\n",
              "  yield {\n",
              "    response: {\n",
              "      action: 'complete',\n",
              "    }\n",
              "  };\n",
              "}\n",
              "\n",
              "scope.google = scope.google || {};\n",
              "scope.google.colab = scope.google.colab || {};\n",
              "scope.google.colab._files = {\n",
              "  _uploadFiles,\n",
              "  _uploadFilesContinue,\n",
              "};\n",
              "})(self);\n",
              "</script> "
            ]
          },
          "metadata": {}
        },
        {
          "name": "stdout",
          "output_type": "stream",
          "text": [
            "Saving 2983-romeu-e-julieta-william-shakespeare.pdf to 2983-romeu-e-julieta-william-shakespeare (1).pdf\n",
            "Texto carregado do PDF com sucesso\n",
            "CSV com o conteúdo do livro criado\n",
            "Digite uma palavra chave (ou 'sair' para encerrar): sair\n"
          ]
        }
      ]
    },
    {
      "cell_type": "markdown",
      "source": [
        "atv 1"
      ],
      "metadata": {
        "id": "pF_f1nqx2Eke"
      }
    },
    {
      "cell_type": "code",
      "source": [
        "valor1 = int(input(\"coloque o primeiro valor: \"))\n",
        "if valor1 > 0:\n",
        "    print (\"o antessesor do valor e\",valor1 - 1)"
      ],
      "metadata": {
        "colab": {
          "base_uri": "https://localhost:8080/"
        },
        "id": "LZEltwgj0xen",
        "outputId": "159e8822-ec77-46c2-fd60-6a2b249c96ef"
      },
      "execution_count": null,
      "outputs": [
        {
          "output_type": "stream",
          "name": "stdout",
          "text": [
            "coloque o primeiro valor: 10\n",
            "o antessesor do valor e 9\n"
          ]
        }
      ]
    },
    {
      "cell_type": "markdown",
      "source": [
        "atv 2"
      ],
      "metadata": {
        "id": "TOhHSzhW2CU4"
      }
    },
    {
      "cell_type": "code",
      "source": [
        "altura = int(input(\"fale a altura\"))\n",
        "base = int(input(\"fale a base \"))\n",
        "\n",
        "area = altura * base\n",
        "\n",
        "print(\"a area do triangulo e\", area)"
      ],
      "metadata": {
        "colab": {
          "base_uri": "https://localhost:8080/"
        },
        "id": "R2_qjmKP2H9A",
        "outputId": "36e8f1be-14ae-4a74-fc5c-deb361b0978e"
      },
      "execution_count": null,
      "outputs": [
        {
          "output_type": "stream",
          "name": "stdout",
          "text": [
            "fale a altura10\n",
            "fale a base 10\n",
            "a area do triangulo e 100\n"
          ]
        }
      ]
    },
    {
      "cell_type": "markdown",
      "source": [
        "atv 3"
      ],
      "metadata": {
        "id": "vipqkqN224y9"
      }
    },
    {
      "cell_type": "code",
      "source": [
        "total = int(input(\"Digite o número total de eleitores do município: \"))\n",
        "\n",
        "\n",
        "brancos = int(input(\"Digite o número de votos brancos: \"))\n",
        "nulos = int(input(\"Digite o número de votos nulos: \"))\n",
        "validos = int(input(\"Digite o número de votos válidos: \"))\n",
        "\n",
        "\n",
        "if brancos + nulos + validos > total:\n",
        "    print(\" A soma dos votos brancos, nulos e válidos é maior que o total de eleitores.\")\n",
        "else:\n",
        "\n",
        "    porcentagem_brancos = (brancos / total  ) * 100\n",
        "    porcentagem_nulos = (nulos / total) * 100\n",
        "    porcentagem_validos = (validos / total) * 100\n",
        "\n",
        "\n",
        "    print(\"Percentagem de votos \")\n",
        "    print(f\"Total de eleitores: {total}\")\n",
        "    print(f\"Votos brancos: {porcentagem_brancos}%\")\n",
        "    print(f\"Votos nulos: {porcentagem_nulos}%\")\n",
        "    print(f\"Votos válidos: {porcentagem_validos}%\")"
      ],
      "metadata": {
        "colab": {
          "base_uri": "https://localhost:8080/"
        },
        "id": "tmOWENZY27t_",
        "outputId": "cafffcb7-171a-483b-dbf4-6c17a56534e1"
      },
      "execution_count": null,
      "outputs": [
        {
          "output_type": "stream",
          "name": "stdout",
          "text": [
            "Digite o número total de eleitores do município: 1000\n",
            "Digite o número de votos brancos: 100\n",
            "Digite o número de votos nulos: 10\n",
            "Digite o número de votos válidos: 111111\n",
            " A soma dos votos brancos, nulos e válidos é maior que o total de eleitores.\n"
          ]
        }
      ]
    },
    {
      "cell_type": "markdown",
      "source": [
        "atv 4"
      ],
      "metadata": {
        "id": "den9r4KR4vr1"
      }
    },
    {
      "cell_type": "code",
      "source": [
        "\n",
        "DIAS_NO_ANO = 365\n",
        "DIAS_NO_MES = 30\n",
        "\n",
        "\n",
        "Anos = int(input(\"Informe a sua idade: \"))\n",
        "print(\"Sua Idade é: \", Anos)\n",
        "\n",
        "Meses = int(input(\"Meses: \"))\n",
        "\n",
        "\n",
        "Dias = int(input(\"Dias: \"))\n",
        "\n",
        "\n",
        "Dias += (Anos * DIAS_NO_ANO) + (Anos * DIAS_NO_MES)\n",
        "\n",
        "print(\"Sua Idade em Dias é: \", Dias)"
      ],
      "metadata": {
        "colab": {
          "base_uri": "https://localhost:8080/",
          "height": 106
        },
        "id": "1rd8X8eg4wyk",
        "outputId": "f74ecfb2-a68d-40d6-f399-1fb228c46883"
      },
      "execution_count": 22,
      "outputs": [
        {
          "output_type": "error",
          "ename": "SyntaxError",
          "evalue": "invalid syntax. Perhaps you forgot a comma? (ipython-input-3341387306.py, line 12)",
          "traceback": [
            "\u001b[0;36m  File \u001b[0;32m\"/tmp/ipython-input-3341387306.py\"\u001b[0;36m, line \u001b[0;32m12\u001b[0m\n\u001b[0;31m    print(\"Percentual de votos brancos: \" percentual_brancos)\u001b[0m\n\u001b[0m          ^\u001b[0m\n\u001b[0;31mSyntaxError\u001b[0m\u001b[0;31m:\u001b[0m invalid syntax. Perhaps you forgot a comma?\n"
          ]
        }
      ]
    },
    {
      "cell_type": "markdown",
      "source": [
        "atv 5\n"
      ],
      "metadata": {
        "id": "HmJQgYy0Uez9"
      }
    },
    {
      "cell_type": "code",
      "source": [
        "\n",
        "def soma_imposto(taxa_imposto, custo):\n",
        "\n",
        "    custo_com_imposto = custo * (1 + taxa_imposto / 100)\n",
        "    return custo_com_imposto\n",
        "\n",
        "taxa_imposto = float(input(\"Escreva o valor da taxa de imposto em porcentagem: \"))\n",
        "custo = float(input(\"Digite o custo do produto: \"))\n",
        "\n",
        "custo_final = soma_imposto(taxa_imposto, custo)\n",
        "print(f\"O custo final com imposto é: {custo_final:.2f}\")"
      ],
      "metadata": {
        "id": "bGGSryDHUhMc"
      },
      "execution_count": null,
      "outputs": []
    },
    {
      "cell_type": "markdown",
      "source": [
        "atv 6"
      ],
      "metadata": {
        "id": "L-yWhJNhUiOt"
      }
    },
    {
      "cell_type": "code",
      "source": [],
      "metadata": {
        "id": "h-tLwEcvUogd"
      },
      "execution_count": null,
      "outputs": []
    }
  ]
}